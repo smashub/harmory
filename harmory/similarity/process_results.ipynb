{
 "cells": [
  {
   "cell_type": "code",
   "execution_count": 2,
   "metadata": {
    "collapsed": true
   },
   "outputs": [],
   "source": [
    "results = [['merge', 'tpsd', 'offset', None, None, False, 0.5795940170940171, 0.6663614163614162], ['merge', 'tpsd', 'profile', None, None, False, 0.6881868131868132, 0.801358363858364], ['merge', 'dtw', 'offset', 'stretch', None, False, 0.6575854700854701, 0.7628205128205128], ['merge', 'dtw', 'profile', 'stretch', None, False, 0.7126068376068376, 0.778846153846154], ['merge', 'dtw', 'offset', 'no-stretch', None, False, 0.5678418803418804, 0.6436965811965809], ['merge', 'dtw', 'profile', 'no-stretch', None, False, 0.6602564102564104, 0.7222222222222223], ['merge', 'dtw', 'offset', 'stretch', 'sakoe_chiba', False, 0.7217643467643465, 0.7914377289377288], ['merge', 'dtw', 'profile', 'stretch', 'sakoe_chiba', False, 0.7738095238095237, 0.8386752136752136], ['merge', 'dtw', 'offset', 'stretch', 'itakura', False, 0.6752136752136753, 0.753205128205128], ['merge', 'dtw', 'profile', 'stretch', 'itakura', False, 0.71741452991453, 0.7820512820512819], ['merge', 'dtw', 'offset', 'no-stretch', 'sakoe_chiba', False, 0.4791666666666667, 0.5438034188034188], ['merge', 'dtw', 'profile', 'no-stretch', 'sakoe_chiba', False, 0.6287393162393162, 0.6891025641025641], ['merge', 'dtw', 'offset', 'stretch', 'sakoe_chiba', 'normalize', 0.7714438339438338, 0.8165445665445664], ['merge', 'dtw', 'profile', 'stretch', 'sakoe_chiba', 'normalize', 0.7866300366300364, 0.829594017094017], ['merge', 'lcss', 'offset', None, 'sakoe_chiba', False, 0.13713369963369962, 0.23778998778998778], ['merge', 'lcss', 'offset', None, 'itakura', False, 0.3122710622710622, 0.407051282051282], ['merge', 'sdtw', 'offset', 'stretch', None, False, 0.6672008547008547, 0.7740384615384613], ['merge', 'sdtw', 'profile', 'stretch', None, False, 0.7302350427350429, 0.8103632478632478], ['merge', 'sdtw', 'offset', 'stretch', 'sakoe_chiba', False, 0.6672008547008547, 0.7740384615384613], ['merge', 'sdtw', 'profile', 'stretch', 'sakoe_chiba', False, 0.7302350427350429, 0.8103632478632478], ['merge', 'sdtw', 'offset', 'no-stretch', 'sakoe_chiba', False, 0.6148504273504274, 0.6976495726495725], ['merge', 'sdtw', 'offset', 'stretch', 'itakura', False, 0.6672008547008547, 0.7740384615384613]]\n"
   ]
  },
  {
   "cell_type": "code",
   "execution_count": 36,
   "outputs": [
    {
     "data": {
      "text/plain": "   dataset distance tps_mode     stretch   constraint  normalize  first_tier  \\\n0    merge     tpsd   offset        None         None      False    0.579594   \n1    merge     tpsd  profile        None         None      False    0.688187   \n2    merge      dtw   offset     stretch         None      False    0.657585   \n3    merge      dtw  profile     stretch         None      False    0.712607   \n4    merge      dtw   offset  no-stretch         None      False    0.567842   \n5    merge      dtw  profile  no-stretch         None      False    0.660256   \n6    merge      dtw   offset     stretch  sakoe_chiba      False    0.721764   \n7    merge      dtw  profile     stretch  sakoe_chiba      False    0.773810   \n8    merge      dtw   offset     stretch      itakura      False    0.675214   \n9    merge      dtw  profile     stretch      itakura      False    0.717415   \n10   merge      dtw   offset  no-stretch  sakoe_chiba      False    0.479167   \n11   merge      dtw  profile  no-stretch  sakoe_chiba      False    0.628739   \n12   merge      dtw   offset     stretch  sakoe_chiba  normalize    0.771444   \n13   merge      dtw  profile     stretch  sakoe_chiba  normalize    0.786630   \n14   merge     lcss   offset        None  sakoe_chiba      False    0.137134   \n15   merge     lcss   offset        None      itakura      False    0.312271   \n16   merge     sdtw   offset     stretch         None      False    0.667201   \n17   merge     sdtw  profile     stretch         None      False    0.730235   \n18   merge     sdtw   offset     stretch  sakoe_chiba      False    0.667201   \n19   merge     sdtw  profile     stretch  sakoe_chiba      False    0.730235   \n20   merge     sdtw   offset  no-stretch  sakoe_chiba      False    0.614850   \n21   merge     sdtw   offset     stretch      itakura      False    0.667201   \n\n    second_tier  \n0      0.666361  \n1      0.801358  \n2      0.762821  \n3      0.778846  \n4      0.643697  \n5      0.722222  \n6      0.791438  \n7      0.838675  \n8      0.753205  \n9      0.782051  \n10     0.543803  \n11     0.689103  \n12     0.816545  \n13     0.829594  \n14     0.237790  \n15     0.407051  \n16     0.774038  \n17     0.810363  \n18     0.774038  \n19     0.810363  \n20     0.697650  \n21     0.774038  ",
      "text/html": "<div>\n<style scoped>\n    .dataframe tbody tr th:only-of-type {\n        vertical-align: middle;\n    }\n\n    .dataframe tbody tr th {\n        vertical-align: top;\n    }\n\n    .dataframe thead th {\n        text-align: right;\n    }\n</style>\n<table border=\"1\" class=\"dataframe\">\n  <thead>\n    <tr style=\"text-align: right;\">\n      <th></th>\n      <th>dataset</th>\n      <th>distance</th>\n      <th>tps_mode</th>\n      <th>stretch</th>\n      <th>constraint</th>\n      <th>normalize</th>\n      <th>first_tier</th>\n      <th>second_tier</th>\n    </tr>\n  </thead>\n  <tbody>\n    <tr>\n      <th>0</th>\n      <td>merge</td>\n      <td>tpsd</td>\n      <td>offset</td>\n      <td>None</td>\n      <td>None</td>\n      <td>False</td>\n      <td>0.579594</td>\n      <td>0.666361</td>\n    </tr>\n    <tr>\n      <th>1</th>\n      <td>merge</td>\n      <td>tpsd</td>\n      <td>profile</td>\n      <td>None</td>\n      <td>None</td>\n      <td>False</td>\n      <td>0.688187</td>\n      <td>0.801358</td>\n    </tr>\n    <tr>\n      <th>2</th>\n      <td>merge</td>\n      <td>dtw</td>\n      <td>offset</td>\n      <td>stretch</td>\n      <td>None</td>\n      <td>False</td>\n      <td>0.657585</td>\n      <td>0.762821</td>\n    </tr>\n    <tr>\n      <th>3</th>\n      <td>merge</td>\n      <td>dtw</td>\n      <td>profile</td>\n      <td>stretch</td>\n      <td>None</td>\n      <td>False</td>\n      <td>0.712607</td>\n      <td>0.778846</td>\n    </tr>\n    <tr>\n      <th>4</th>\n      <td>merge</td>\n      <td>dtw</td>\n      <td>offset</td>\n      <td>no-stretch</td>\n      <td>None</td>\n      <td>False</td>\n      <td>0.567842</td>\n      <td>0.643697</td>\n    </tr>\n    <tr>\n      <th>5</th>\n      <td>merge</td>\n      <td>dtw</td>\n      <td>profile</td>\n      <td>no-stretch</td>\n      <td>None</td>\n      <td>False</td>\n      <td>0.660256</td>\n      <td>0.722222</td>\n    </tr>\n    <tr>\n      <th>6</th>\n      <td>merge</td>\n      <td>dtw</td>\n      <td>offset</td>\n      <td>stretch</td>\n      <td>sakoe_chiba</td>\n      <td>False</td>\n      <td>0.721764</td>\n      <td>0.791438</td>\n    </tr>\n    <tr>\n      <th>7</th>\n      <td>merge</td>\n      <td>dtw</td>\n      <td>profile</td>\n      <td>stretch</td>\n      <td>sakoe_chiba</td>\n      <td>False</td>\n      <td>0.773810</td>\n      <td>0.838675</td>\n    </tr>\n    <tr>\n      <th>8</th>\n      <td>merge</td>\n      <td>dtw</td>\n      <td>offset</td>\n      <td>stretch</td>\n      <td>itakura</td>\n      <td>False</td>\n      <td>0.675214</td>\n      <td>0.753205</td>\n    </tr>\n    <tr>\n      <th>9</th>\n      <td>merge</td>\n      <td>dtw</td>\n      <td>profile</td>\n      <td>stretch</td>\n      <td>itakura</td>\n      <td>False</td>\n      <td>0.717415</td>\n      <td>0.782051</td>\n    </tr>\n    <tr>\n      <th>10</th>\n      <td>merge</td>\n      <td>dtw</td>\n      <td>offset</td>\n      <td>no-stretch</td>\n      <td>sakoe_chiba</td>\n      <td>False</td>\n      <td>0.479167</td>\n      <td>0.543803</td>\n    </tr>\n    <tr>\n      <th>11</th>\n      <td>merge</td>\n      <td>dtw</td>\n      <td>profile</td>\n      <td>no-stretch</td>\n      <td>sakoe_chiba</td>\n      <td>False</td>\n      <td>0.628739</td>\n      <td>0.689103</td>\n    </tr>\n    <tr>\n      <th>12</th>\n      <td>merge</td>\n      <td>dtw</td>\n      <td>offset</td>\n      <td>stretch</td>\n      <td>sakoe_chiba</td>\n      <td>normalize</td>\n      <td>0.771444</td>\n      <td>0.816545</td>\n    </tr>\n    <tr>\n      <th>13</th>\n      <td>merge</td>\n      <td>dtw</td>\n      <td>profile</td>\n      <td>stretch</td>\n      <td>sakoe_chiba</td>\n      <td>normalize</td>\n      <td>0.786630</td>\n      <td>0.829594</td>\n    </tr>\n    <tr>\n      <th>14</th>\n      <td>merge</td>\n      <td>lcss</td>\n      <td>offset</td>\n      <td>None</td>\n      <td>sakoe_chiba</td>\n      <td>False</td>\n      <td>0.137134</td>\n      <td>0.237790</td>\n    </tr>\n    <tr>\n      <th>15</th>\n      <td>merge</td>\n      <td>lcss</td>\n      <td>offset</td>\n      <td>None</td>\n      <td>itakura</td>\n      <td>False</td>\n      <td>0.312271</td>\n      <td>0.407051</td>\n    </tr>\n    <tr>\n      <th>16</th>\n      <td>merge</td>\n      <td>sdtw</td>\n      <td>offset</td>\n      <td>stretch</td>\n      <td>None</td>\n      <td>False</td>\n      <td>0.667201</td>\n      <td>0.774038</td>\n    </tr>\n    <tr>\n      <th>17</th>\n      <td>merge</td>\n      <td>sdtw</td>\n      <td>profile</td>\n      <td>stretch</td>\n      <td>None</td>\n      <td>False</td>\n      <td>0.730235</td>\n      <td>0.810363</td>\n    </tr>\n    <tr>\n      <th>18</th>\n      <td>merge</td>\n      <td>sdtw</td>\n      <td>offset</td>\n      <td>stretch</td>\n      <td>sakoe_chiba</td>\n      <td>False</td>\n      <td>0.667201</td>\n      <td>0.774038</td>\n    </tr>\n    <tr>\n      <th>19</th>\n      <td>merge</td>\n      <td>sdtw</td>\n      <td>profile</td>\n      <td>stretch</td>\n      <td>sakoe_chiba</td>\n      <td>False</td>\n      <td>0.730235</td>\n      <td>0.810363</td>\n    </tr>\n    <tr>\n      <th>20</th>\n      <td>merge</td>\n      <td>sdtw</td>\n      <td>offset</td>\n      <td>no-stretch</td>\n      <td>sakoe_chiba</td>\n      <td>False</td>\n      <td>0.614850</td>\n      <td>0.697650</td>\n    </tr>\n    <tr>\n      <th>21</th>\n      <td>merge</td>\n      <td>sdtw</td>\n      <td>offset</td>\n      <td>stretch</td>\n      <td>itakura</td>\n      <td>False</td>\n      <td>0.667201</td>\n      <td>0.774038</td>\n    </tr>\n  </tbody>\n</table>\n</div>"
     },
     "execution_count": 36,
     "metadata": {},
     "output_type": "execute_result"
    }
   ],
   "source": [
    "import pandas as pd\n",
    "\n",
    "df = pd.DataFrame(results, columns=['dataset', 'distance',\n",
    "                                     'tps_mode', 'stretch',\n",
    "                                     'constraint', 'normalize',\n",
    "                                     'first_tier', 'second_tier'])\n",
    "df"
   ],
   "metadata": {
    "collapsed": false
   }
  },
  {
   "cell_type": "code",
   "execution_count": 37,
   "outputs": [
    {
     "data": {
      "text/plain": "   distance tps_mode     stretch   constraint  normalize  first_tier  \\\n0      TPSD   offset        None         None      False        0.58   \n1      TPSD  profile        None         None      False        0.69   \n2       DTW   offset     stretch         None      False        0.66   \n3       DTW  profile     stretch         None      False        0.71   \n4       DTW   offset  no-stretch         None      False        0.57   \n5       DTW  profile  no-stretch         None      False        0.66   \n6       DTW   offset     stretch  sakoe_chiba      False        0.72   \n7       DTW  profile     stretch  sakoe_chiba      False        0.77   \n8       DTW   offset     stretch      itakura      False        0.68   \n9       DTW  profile     stretch      itakura      False        0.72   \n10      DTW   offset  no-stretch  sakoe_chiba      False        0.48   \n11      DTW  profile  no-stretch  sakoe_chiba      False        0.63   \n12      DTW   offset     stretch  sakoe_chiba  normalize        0.77   \n13      DTW  profile     stretch  sakoe_chiba  normalize        0.79   \n14     LCSS   offset        None  sakoe_chiba      False        0.14   \n15     LCSS   offset        None      itakura      False        0.31   \n16  softDTW   offset     stretch         None      False        0.67   \n17  softDTW  profile     stretch         None      False        0.73   \n18  softDTW   offset     stretch  sakoe_chiba      False        0.67   \n19  softDTW  profile     stretch  sakoe_chiba      False        0.73   \n20  softDTW   offset  no-stretch  sakoe_chiba      False        0.61   \n21  softDTW   offset     stretch      itakura      False        0.67   \n\n    second_tier  \n0          0.67  \n1          0.80  \n2          0.76  \n3          0.78  \n4          0.64  \n5          0.72  \n6          0.79  \n7          0.84  \n8          0.75  \n9          0.78  \n10         0.54  \n11         0.69  \n12         0.82  \n13         0.83  \n14         0.24  \n15         0.41  \n16         0.77  \n17         0.81  \n18         0.77  \n19         0.81  \n20         0.70  \n21         0.77  ",
      "text/html": "<div>\n<style scoped>\n    .dataframe tbody tr th:only-of-type {\n        vertical-align: middle;\n    }\n\n    .dataframe tbody tr th {\n        vertical-align: top;\n    }\n\n    .dataframe thead th {\n        text-align: right;\n    }\n</style>\n<table border=\"1\" class=\"dataframe\">\n  <thead>\n    <tr style=\"text-align: right;\">\n      <th></th>\n      <th>distance</th>\n      <th>tps_mode</th>\n      <th>stretch</th>\n      <th>constraint</th>\n      <th>normalize</th>\n      <th>first_tier</th>\n      <th>second_tier</th>\n    </tr>\n  </thead>\n  <tbody>\n    <tr>\n      <th>0</th>\n      <td>TPSD</td>\n      <td>offset</td>\n      <td>None</td>\n      <td>None</td>\n      <td>False</td>\n      <td>0.58</td>\n      <td>0.67</td>\n    </tr>\n    <tr>\n      <th>1</th>\n      <td>TPSD</td>\n      <td>profile</td>\n      <td>None</td>\n      <td>None</td>\n      <td>False</td>\n      <td>0.69</td>\n      <td>0.80</td>\n    </tr>\n    <tr>\n      <th>2</th>\n      <td>DTW</td>\n      <td>offset</td>\n      <td>stretch</td>\n      <td>None</td>\n      <td>False</td>\n      <td>0.66</td>\n      <td>0.76</td>\n    </tr>\n    <tr>\n      <th>3</th>\n      <td>DTW</td>\n      <td>profile</td>\n      <td>stretch</td>\n      <td>None</td>\n      <td>False</td>\n      <td>0.71</td>\n      <td>0.78</td>\n    </tr>\n    <tr>\n      <th>4</th>\n      <td>DTW</td>\n      <td>offset</td>\n      <td>no-stretch</td>\n      <td>None</td>\n      <td>False</td>\n      <td>0.57</td>\n      <td>0.64</td>\n    </tr>\n    <tr>\n      <th>5</th>\n      <td>DTW</td>\n      <td>profile</td>\n      <td>no-stretch</td>\n      <td>None</td>\n      <td>False</td>\n      <td>0.66</td>\n      <td>0.72</td>\n    </tr>\n    <tr>\n      <th>6</th>\n      <td>DTW</td>\n      <td>offset</td>\n      <td>stretch</td>\n      <td>sakoe_chiba</td>\n      <td>False</td>\n      <td>0.72</td>\n      <td>0.79</td>\n    </tr>\n    <tr>\n      <th>7</th>\n      <td>DTW</td>\n      <td>profile</td>\n      <td>stretch</td>\n      <td>sakoe_chiba</td>\n      <td>False</td>\n      <td>0.77</td>\n      <td>0.84</td>\n    </tr>\n    <tr>\n      <th>8</th>\n      <td>DTW</td>\n      <td>offset</td>\n      <td>stretch</td>\n      <td>itakura</td>\n      <td>False</td>\n      <td>0.68</td>\n      <td>0.75</td>\n    </tr>\n    <tr>\n      <th>9</th>\n      <td>DTW</td>\n      <td>profile</td>\n      <td>stretch</td>\n      <td>itakura</td>\n      <td>False</td>\n      <td>0.72</td>\n      <td>0.78</td>\n    </tr>\n    <tr>\n      <th>10</th>\n      <td>DTW</td>\n      <td>offset</td>\n      <td>no-stretch</td>\n      <td>sakoe_chiba</td>\n      <td>False</td>\n      <td>0.48</td>\n      <td>0.54</td>\n    </tr>\n    <tr>\n      <th>11</th>\n      <td>DTW</td>\n      <td>profile</td>\n      <td>no-stretch</td>\n      <td>sakoe_chiba</td>\n      <td>False</td>\n      <td>0.63</td>\n      <td>0.69</td>\n    </tr>\n    <tr>\n      <th>12</th>\n      <td>DTW</td>\n      <td>offset</td>\n      <td>stretch</td>\n      <td>sakoe_chiba</td>\n      <td>normalize</td>\n      <td>0.77</td>\n      <td>0.82</td>\n    </tr>\n    <tr>\n      <th>13</th>\n      <td>DTW</td>\n      <td>profile</td>\n      <td>stretch</td>\n      <td>sakoe_chiba</td>\n      <td>normalize</td>\n      <td>0.79</td>\n      <td>0.83</td>\n    </tr>\n    <tr>\n      <th>14</th>\n      <td>LCSS</td>\n      <td>offset</td>\n      <td>None</td>\n      <td>sakoe_chiba</td>\n      <td>False</td>\n      <td>0.14</td>\n      <td>0.24</td>\n    </tr>\n    <tr>\n      <th>15</th>\n      <td>LCSS</td>\n      <td>offset</td>\n      <td>None</td>\n      <td>itakura</td>\n      <td>False</td>\n      <td>0.31</td>\n      <td>0.41</td>\n    </tr>\n    <tr>\n      <th>16</th>\n      <td>softDTW</td>\n      <td>offset</td>\n      <td>stretch</td>\n      <td>None</td>\n      <td>False</td>\n      <td>0.67</td>\n      <td>0.77</td>\n    </tr>\n    <tr>\n      <th>17</th>\n      <td>softDTW</td>\n      <td>profile</td>\n      <td>stretch</td>\n      <td>None</td>\n      <td>False</td>\n      <td>0.73</td>\n      <td>0.81</td>\n    </tr>\n    <tr>\n      <th>18</th>\n      <td>softDTW</td>\n      <td>offset</td>\n      <td>stretch</td>\n      <td>sakoe_chiba</td>\n      <td>False</td>\n      <td>0.67</td>\n      <td>0.77</td>\n    </tr>\n    <tr>\n      <th>19</th>\n      <td>softDTW</td>\n      <td>profile</td>\n      <td>stretch</td>\n      <td>sakoe_chiba</td>\n      <td>False</td>\n      <td>0.73</td>\n      <td>0.81</td>\n    </tr>\n    <tr>\n      <th>20</th>\n      <td>softDTW</td>\n      <td>offset</td>\n      <td>no-stretch</td>\n      <td>sakoe_chiba</td>\n      <td>False</td>\n      <td>0.61</td>\n      <td>0.70</td>\n    </tr>\n    <tr>\n      <th>21</th>\n      <td>softDTW</td>\n      <td>offset</td>\n      <td>stretch</td>\n      <td>itakura</td>\n      <td>False</td>\n      <td>0.67</td>\n      <td>0.77</td>\n    </tr>\n  </tbody>\n</table>\n</div>"
     },
     "execution_count": 37,
     "metadata": {},
     "output_type": "execute_result"
    }
   ],
   "source": [
    "df = df.drop('dataset', axis=1)\n",
    "df['distance'] = df['distance'].str.upper()\n",
    "df['distance'] = df['distance'].replace('SDTW', 'softDTW')\n",
    "df['first_tier'] = pd.to_numeric(df['first_tier']).round(2)\n",
    "df['second_tier'] = pd.to_numeric(df['second_tier']).round(2)\n",
    "df"
   ],
   "metadata": {
    "collapsed": false
   }
  },
  {
   "cell_type": "code",
   "execution_count": 35,
   "outputs": [
    {
     "name": "stderr",
     "output_type": "stream",
     "text": [
      "/tmp/ipykernel_991600/1669264725.py:1: FutureWarning: In future versions `DataFrame.to_latex` is expected to utilise the base implementation of `Styler.to_latex` for formatting and rendering. The arguments signature may therefore change. It is recommended instead to use `DataFrame.style.to_latex` which also contains additional functionality.\n",
      "  df.to_latex()\n"
     ]
    },
    {
     "data": {
      "text/plain": "'\\\\begin{tabular}{llllllrr}\\n\\\\toprule\\n{} & distance & tps\\\\_mode & stretch &   constraint &  normalize &  first\\\\_tier &  second\\\\_tier \\\\\\\\\\n\\\\midrule\\n0  &     TPSD &   offset &     NaN &         None &      False &        0.58 &         0.67 \\\\\\\\\\n1  &     TPSD &  profile &     NaN &         None &      False &        0.69 &         0.80 \\\\\\\\\\n2  &      DTW &   offset &     NaN &         None &      False &        0.66 &         0.76 \\\\\\\\\\n3  &      DTW &  profile &     NaN &         None &      False &        0.71 &         0.78 \\\\\\\\\\n4  &      DTW &   offset &     NaN &         None &      False &        0.57 &         0.64 \\\\\\\\\\n5  &      DTW &  profile &     NaN &         None &      False &        0.66 &         0.72 \\\\\\\\\\n6  &      DTW &   offset &     NaN &  sakoe\\\\_chiba &      False &        0.72 &         0.79 \\\\\\\\\\n7  &      DTW &  profile &     NaN &  sakoe\\\\_chiba &      False &        0.77 &         0.84 \\\\\\\\\\n8  &      DTW &   offset &     NaN &      itakura &      False &        0.68 &         0.75 \\\\\\\\\\n9  &      DTW &  profile &     NaN &      itakura &      False &        0.72 &         0.78 \\\\\\\\\\n10 &      DTW &   offset &     NaN &  sakoe\\\\_chiba &      False &        0.48 &         0.54 \\\\\\\\\\n11 &      DTW &  profile &     NaN &  sakoe\\\\_chiba &      False &        0.63 &         0.69 \\\\\\\\\\n12 &      DTW &   offset &     NaN &  sakoe\\\\_chiba &  normalize &        0.77 &         0.82 \\\\\\\\\\n13 &      DTW &  profile &     NaN &  sakoe\\\\_chiba &  normalize &        0.79 &         0.83 \\\\\\\\\\n14 &     LCSS &   offset &     NaN &  sakoe\\\\_chiba &      False &        0.14 &         0.24 \\\\\\\\\\n15 &     LCSS &   offset &     NaN &      itakura &      False &        0.31 &         0.41 \\\\\\\\\\n16 &     SDTW &   offset &     NaN &         None &      False &        0.67 &         0.77 \\\\\\\\\\n17 &     SDTW &  profile &     NaN &         None &      False &        0.73 &         0.81 \\\\\\\\\\n18 &     SDTW &   offset &     NaN &  sakoe\\\\_chiba &      False &        0.67 &         0.77 \\\\\\\\\\n19 &     SDTW &  profile &     NaN &  sakoe\\\\_chiba &      False &        0.73 &         0.81 \\\\\\\\\\n20 &     SDTW &   offset &     NaN &  sakoe\\\\_chiba &      False &        0.61 &         0.70 \\\\\\\\\\n21 &     SDTW &   offset &     NaN &      itakura &      False &        0.67 &         0.77 \\\\\\\\\\n\\\\bottomrule\\n\\\\end{tabular}\\n'"
     },
     "execution_count": 35,
     "metadata": {},
     "output_type": "execute_result"
    }
   ],
   "source": [
    "df.to_latex()"
   ],
   "metadata": {
    "collapsed": false
   }
  },
  {
   "cell_type": "code",
   "execution_count": null,
   "outputs": [],
   "source": [],
   "metadata": {
    "collapsed": false
   }
  }
 ],
 "metadata": {
  "kernelspec": {
   "display_name": "Python 3",
   "language": "python",
   "name": "python3"
  },
  "language_info": {
   "codemirror_mode": {
    "name": "ipython",
    "version": 2
   },
   "file_extension": ".py",
   "mimetype": "text/x-python",
   "name": "python",
   "nbconvert_exporter": "python",
   "pygments_lexer": "ipython2",
   "version": "2.7.6"
  }
 },
 "nbformat": 4,
 "nbformat_minor": 0
}
